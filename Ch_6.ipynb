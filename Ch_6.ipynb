{
 "cells": [
  {
   "cell_type": "markdown",
   "metadata": {},
   "source": [
    "# CH-6 Working with Files"
   ]
  },
  {
   "cell_type": "markdown",
   "metadata": {},
   "source": [
    "### File Access Mode "
   ]
  },
  {
   "cell_type": "code",
   "execution_count": 33,
   "metadata": {},
   "outputs": [],
   "source": [
    "mode |   Full Name  |  handle   | File not found \n",
    "\n",
    "\n",
    " r   |  Read only   |  starting |  I/O error        | [Default mode]\n",
    "r+   |  Read & Write| starting  | I/O error         |[overwrites on exixting file]\n",
    " w   |   Write      | starting  | creates a new file|[it first empty out complete existing file and then writes again]\n",
    " w+  | write&Read   | starting  | creates a new file|[first file will be emptied and then any operations will be performed]\n",
    " a   | append only  |    end    | creates a new file|[will not read as append only mode/ adds at end of the back]\n",
    " a+  | append&Read  |    end    | creates a new File|[even if u seek at 0 it will write in last only]"
   ]
  },
  {
   "cell_type": "code",
   "execution_count": 19,
   "metadata": {},
   "outputs": [
    {
     "name": "stdout",
     "output_type": "stream",
     "text": [
      "0\n",
      "HIIII\n",
      "HIIII\n",
      "12\n",
      "\n",
      "HIIII\n",
      "HIIII\n"
     ]
    }
   ],
   "source": [
    "f=open('File1.txt')\n",
    "print(f.tell())\n",
    "\n",
    "print(f.read())\n",
    "# f.write(\"Jk\") --  not writable\n",
    "print(f.tell())\n",
    "print(f.read())# Empty\n",
    "f.seek(0)# Ek var file read thai gai pachi pachi read karavsu to\n",
    "        # kai nai ave etle pointer ne pacho 0 set karvo padse\n",
    "print(f.read())\n",
    "f.close() \n",
    "\n"
   ]
  },
  {
   "cell_type": "code",
   "execution_count": 26,
   "metadata": {},
   "outputs": [
    {
     "name": "stdout",
     "output_type": "stream",
     "text": [
      "0\n",
      "II\n",
      "HIIII\n",
      "HiiII\n",
      "HIIII\n",
      "\n",
      "HiiII\n",
      "HIIIIByy\n"
     ]
    }
   ],
   "source": [
    "f=open('File1.txt','r+')\n",
    "print(f.tell())\n",
    "f.write(\"Hii\")\n",
    "print(f.read())\n",
    "f.seek(0)\n",
    "print(f.read()) # Ovver write thase ahiya \n",
    "f.write(\"Byy\")# already end par che pointer as pehla read karai etle last ma lakhase \n",
    "print(f.read())\n",
    "f.seek(0) # 0 vagar read karavso so kai nai ave as pointer last ma che \n",
    "print(f.read())\n",
    "f.close() \n",
    "\n"
   ]
  },
  {
   "cell_type": "code",
   "execution_count": 27,
   "metadata": {},
   "outputs": [],
   "source": [
    "f=open(\"File2.txt\",'w')\n",
    "f.write(\"Writer mode creates a new File\")\n",
    "f.close()"
   ]
  },
  {
   "cell_type": "code",
   "execution_count": 29,
   "metadata": {},
   "outputs": [],
   "source": [
    "f=open(\"File3.txt\",'w')\n",
    "f.write(\"I have first emptied out file and writing again\")\n",
    "f.close()"
   ]
  },
  {
   "cell_type": "code",
   "execution_count": 32,
   "metadata": {},
   "outputs": [
    {
     "name": "stdout",
     "output_type": "stream",
     "text": [
      "\n",
      "I have first emptied out and then writing\n"
     ]
    }
   ],
   "source": [
    "f=open('File4.txt','w+')\n",
    "print(f.read())\n",
    "f.write('I have first emptied out and then writing')\n",
    "f.seek(0)\n",
    "print(f.read())\n",
    "f.close()"
   ]
  },
  {
   "cell_type": "code",
   "execution_count": 40,
   "metadata": {},
   "outputs": [],
   "source": [
    "f=open('File4.txt','a')\n",
    "f.write(\"I have appended \") # returns the last index or length\n",
    "f.close()\n"
   ]
  },
  {
   "cell_type": "code",
   "execution_count": 44,
   "metadata": {},
   "outputs": [
    {
     "name": "stdout",
     "output_type": "stream",
     "text": [
      "I have first emptied out and then writingI have appended I have appended I have appended I have appended I have appended I have appended I have appended I have appended \n"
     ]
    }
   ],
   "source": [
    "f=open('File4.txt','a+')\n",
    "f.seek(0)\n",
    "print(f.read())\n",
    "f.write(\"I have appended \") # returns the last index or length\n",
    "f.close()\n"
   ]
  },
  {
   "cell_type": "markdown",
   "metadata": {},
   "source": [
    "## File Functions\n"
   ]
  },
  {
   "cell_type": "code",
   "execution_count": null,
   "metadata": {},
   "outputs": [],
   "source": [
    "1.open(file,mode)\n",
    "2.read(n)[no of files]\n",
    "3.readline(n)[read one by one lines and will read upto /n only]\n",
    "4.readlines()[returns list]\n",
    "5.seek(pos)[pos--position]\n",
    "6.tell()[current position]\n",
    "7.write()\n",
    "8.writelines(L)[passing a list and will write]\n",
    "9.close()"
   ]
  },
  {
   "cell_type": "raw",
   "metadata": {},
   "source": [
    "f=open('File1.txt','r+')\n",
    "f.readline() # ['HiiII\\n']\n",
    "print(f.readline())# 2nd time 2nd line and print ma che etle /n nahi avee --HIIIIByy\n",
    "f.seek(0)\n",
    "f.readlines()# ['HiiII\\n', 'HIIIIByy']\n",
    "f.writelines(['a','b',' c'])\n",
    "\n",
    "print(f.read())\n",
    "f.close()"
   ]
  },
  {
   "cell_type": "code",
   "execution_count": 60,
   "metadata": {},
   "outputs": [
    {
     "name": "stdout",
     "output_type": "stream",
     "text": [
      "HiiII\n",
      "HIIIIByyab cab cab c\n"
     ]
    }
   ],
   "source": [
    "## Q : WAP to copy content of 1 file to another file \n",
    "f=open('File1.txt','r')\n",
    "f1=open('File5.txt','w+')\n",
    "f1.write(f.read())\n",
    "f1.seek(0)\n",
    "print(f1.read())\n",
    "f1.close()\n",
    "f.close()"
   ]
  },
  {
   "cell_type": "code",
   "execution_count": 68,
   "metadata": {},
   "outputs": [
    {
     "name": "stdout",
     "output_type": "stream",
     "text": [
      "18\n",
      "2\n",
      "5\n"
     ]
    }
   ],
   "source": [
    "## Q: WAP to count no of characters words and lines in a given file\n",
    "f=open('File1.txt','r+')\n",
    "charcount=linecount=wordcount=0\n",
    "for line in f.readlines():\n",
    "    linecount+=1\n",
    "    for words in line.split():\n",
    "        wordcount+=1\n",
    "f.seek(0)\n",
    "charcount=len(f.read())\n",
    "    \n",
    "print(charcount)\n",
    "print(linecount)\n",
    "print(wordcount)\n",
    "f.close()\n"
   ]
  },
  {
   "cell_type": "code",
   "execution_count": 87,
   "metadata": {},
   "outputs": [
    {
     "name": "stdout",
     "output_type": "stream",
     "text": [
      "{'Hii': 1, 'i': 1, 'am': 1, 'jeel': 1, 'pala': 1}\n"
     ]
    }
   ],
   "source": [
    "# Q: WAP to count how many times each word appears in a given file\n",
    "f=open('File1.txt','r+')\n",
    "d={}\n",
    "for line in f.readlines():\n",
    "    for word in line.split():\n",
    "        if word not in d:\n",
    "            d[word]=1\n",
    "        else:\n",
    "            d[word]+=1\n",
    "print(d)\n",
    "f.close()\n"
   ]
  },
  {
   "cell_type": "code",
   "execution_count": 86,
   "metadata": {},
   "outputs": [
    {
     "name": "stdout",
     "output_type": "stream",
     "text": [
      "Even  : ace\n",
      "Odd  : bdf\n"
     ]
    }
   ],
   "source": [
    "# Q: WAP to copy every odd positioned char to odd.txt file and every even position char to even.txt file \n",
    "#from the given file\n",
    "f=open('GivenChar.txt','r+')\n",
    "f1=open('odd.txt','w+')\n",
    "f2=open('even.txt','w+')\n",
    "f.write('abcdef')\n",
    "d=[]\n",
    "f.seek(0)\n",
    "for i in f.read():\n",
    "    d.append(i)\n",
    "for i in range(len(d)):\n",
    "    if i%2==0:\n",
    "        f2.write(d[i])\n",
    "    else:\n",
    "        f1.write(d[i])\n",
    "f1.seek(0)\n",
    "f2.seek(0)\n",
    "print(\"Even  :\" ,f2.read())\n",
    "print(\"Odd  :\" ,f1.read())"
   ]
  },
  {
   "cell_type": "code",
   "execution_count": null,
   "metadata": {},
   "outputs": [],
   "source": []
  },
  {
   "cell_type": "code",
   "execution_count": null,
   "metadata": {},
   "outputs": [],
   "source": []
  }
 ],
 "metadata": {
  "kernelspec": {
   "display_name": "Python 3",
   "language": "python",
   "name": "python3"
  },
  "language_info": {
   "codemirror_mode": {
    "name": "ipython",
    "version": 3
   },
   "file_extension": ".py",
   "mimetype": "text/x-python",
   "name": "python",
   "nbconvert_exporter": "python",
   "pygments_lexer": "ipython3",
   "version": "3.8.5"
  }
 },
 "nbformat": 4,
 "nbformat_minor": 4
}
